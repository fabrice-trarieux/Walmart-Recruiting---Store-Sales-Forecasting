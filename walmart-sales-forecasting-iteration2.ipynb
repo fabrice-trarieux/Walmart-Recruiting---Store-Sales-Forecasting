{
 "cells": [
  {
   "cell_type": "markdown",
   "metadata": {},
   "source": [
    "# Walmart Recruiting - Store Sales Forecasting -  Step 2: Baseline"
   ]
  },
  {
   "cell_type": "markdown",
   "metadata": {},
   "source": [
    "Now that we have a first initial understanding of the problem we are trying to resolve, it is important to define\n",
    "a metric for evaluating the success of the predictions. I will be using one of the most common metric for regression\n",
    "problem: RMSE (Root-Mean-Square-Error)<br>\n",
    "\n",
    "Another consideration before torturating the data to get more insights ;) it is a common practice to elaborate a 'common-sense' baseline. One naive approach is to take from the previous year the weekly sales for a given store/dept/week."
   ]
  },
  {
   "cell_type": "markdown",
   "metadata": {},
   "source": [
    "### Take away of the notebook\n",
    "    . Defined the 'common-sense' baseline\n",
    "    . Creating submission file\n",
    "    . The baseline put me on the 1/3 of the competition pretty good for a baseline"
   ]
  },
  {
   "cell_type": "code",
   "execution_count": 2,
   "metadata": {},
   "outputs": [],
   "source": [
    "import pandas as pd"
   ]
  },
  {
   "cell_type": "markdown",
   "metadata": {},
   "source": [
    "# load data"
   ]
  },
  {
   "cell_type": "code",
   "execution_count": 3,
   "metadata": {},
   "outputs": [],
   "source": [
    "df_train = pd.read_parquet('data/train.parquet')\n",
    "df_test = pd.read_parquet('data/test.parquet')"
   ]
  },
  {
   "cell_type": "markdown",
   "metadata": {},
   "source": [
    "# 'common-sense' baseline"
   ]
  },
  {
   "cell_type": "code",
   "execution_count": 13,
   "metadata": {},
   "outputs": [
    {
     "data": {
      "text/plain": [
       "0"
      ]
     },
     "execution_count": 13,
     "metadata": {},
     "output_type": "execute_result"
    }
   ],
   "source": [
    "# given a (store, dpt, week of the year) predict weekly sales with the corresponding value last year \n",
    "submission = pd.read_csv('data/sampleSubmission.csv')\n",
    "submission['Store'] = (submission.Id.str.split('_', expand=True)[0]).astype(int)\n",
    "submission['Dept'] = (submission.Id.str.split('_', expand=True)[1]).astype(int)\n",
    "submission['Date'] = pd.to_datetime(submission.Id.str.split('_', expand=True)[2])\n",
    "submission['Year'] = submission.Date.dt.year\n",
    "submission['woy'] = submission.Date.dt.weekofyear\n",
    "\n",
    "# extract sales from the previous year (same week number)\n",
    "preds = df_train[['Store', 'Dept', 'Date', 'Weekly_Sales']].copy()\n",
    "preds['Year'] = preds.Date.dt.year+1\n",
    "preds['woy'] = preds.Date.dt.weekofyear\n",
    "\n",
    "cols = submission.columns.drop(['Weekly_Sales'])\n",
    "submission = submission[cols].merge(preds, how='left', on=['Store', 'Dept', 'Year', 'woy'])\n",
    "\n",
    "# replace the rest by 0\n",
    "submission.Weekly_Sales.fillna(0, inplace=True)\n",
    "submission.Weekly_Sales.isnull().sum()"
   ]
  },
  {
   "cell_type": "code",
   "execution_count": 12,
   "metadata": {},
   "outputs": [
    {
     "data": {
      "text/html": [
       "<div>\n",
       "<style scoped>\n",
       "    .dataframe tbody tr th:only-of-type {\n",
       "        vertical-align: middle;\n",
       "    }\n",
       "\n",
       "    .dataframe tbody tr th {\n",
       "        vertical-align: top;\n",
       "    }\n",
       "\n",
       "    .dataframe thead th {\n",
       "        text-align: right;\n",
       "    }\n",
       "</style>\n",
       "<table border=\"1\" class=\"dataframe\">\n",
       "  <thead>\n",
       "    <tr style=\"text-align: right;\">\n",
       "      <th></th>\n",
       "      <th>Store</th>\n",
       "      <th>Dept</th>\n",
       "      <th>Date</th>\n",
       "      <th>Weekly_Sales</th>\n",
       "      <th>Id</th>\n",
       "      <th>Year</th>\n",
       "      <th>woy</th>\n",
       "    </tr>\n",
       "  </thead>\n",
       "  <tbody>\n",
       "    <tr>\n",
       "      <th>0</th>\n",
       "      <td>1</td>\n",
       "      <td>1</td>\n",
       "      <td>2010-02-05</td>\n",
       "      <td>24924.50</td>\n",
       "      <td>1_1_2010-02-05</td>\n",
       "      <td>2011</td>\n",
       "      <td>5</td>\n",
       "    </tr>\n",
       "    <tr>\n",
       "      <th>1</th>\n",
       "      <td>1</td>\n",
       "      <td>1</td>\n",
       "      <td>2010-02-12</td>\n",
       "      <td>46039.49</td>\n",
       "      <td>1_1_2010-02-12</td>\n",
       "      <td>2011</td>\n",
       "      <td>6</td>\n",
       "    </tr>\n",
       "    <tr>\n",
       "      <th>2</th>\n",
       "      <td>1</td>\n",
       "      <td>1</td>\n",
       "      <td>2010-02-19</td>\n",
       "      <td>41595.55</td>\n",
       "      <td>1_1_2010-02-19</td>\n",
       "      <td>2011</td>\n",
       "      <td>7</td>\n",
       "    </tr>\n",
       "    <tr>\n",
       "      <th>3</th>\n",
       "      <td>1</td>\n",
       "      <td>1</td>\n",
       "      <td>2010-02-26</td>\n",
       "      <td>19403.54</td>\n",
       "      <td>1_1_2010-02-26</td>\n",
       "      <td>2011</td>\n",
       "      <td>8</td>\n",
       "    </tr>\n",
       "    <tr>\n",
       "      <th>4</th>\n",
       "      <td>1</td>\n",
       "      <td>1</td>\n",
       "      <td>2010-03-05</td>\n",
       "      <td>21827.90</td>\n",
       "      <td>1_1_2010-03-05</td>\n",
       "      <td>2011</td>\n",
       "      <td>9</td>\n",
       "    </tr>\n",
       "  </tbody>\n",
       "</table>\n",
       "</div>"
      ],
      "text/plain": [
       "   Store  Dept       Date  Weekly_Sales              Id  Year  woy\n",
       "0      1     1 2010-02-05      24924.50  1_1_2010-02-05  2011    5\n",
       "1      1     1 2010-02-12      46039.49  1_1_2010-02-12  2011    6\n",
       "2      1     1 2010-02-19      41595.55  1_1_2010-02-19  2011    7\n",
       "3      1     1 2010-02-26      19403.54  1_1_2010-02-26  2011    8\n",
       "4      1     1 2010-03-05      21827.90  1_1_2010-03-05  2011    9"
      ]
     },
     "execution_count": 12,
     "metadata": {},
     "output_type": "execute_result"
    }
   ],
   "source": [
    "preds.head()"
   ]
  },
  {
   "cell_type": "markdown",
   "metadata": {},
   "source": [
    "# creating submission"
   ]
  },
  {
   "cell_type": "code",
   "execution_count": 7,
   "metadata": {},
   "outputs": [],
   "source": [
    "# create submission file\n",
    "cols = ['Id', 'Weekly_Sales']\n",
    "submission[cols].to_csv('data/baseline.csv', index=False, header=True)"
   ]
  }
 ],
 "metadata": {
  "kernelspec": {
   "display_name": "Python 3",
   "language": "python",
   "name": "python3"
  },
  "language_info": {
   "codemirror_mode": {
    "name": "ipython",
    "version": 3
   },
   "file_extension": ".py",
   "mimetype": "text/x-python",
   "name": "python",
   "nbconvert_exporter": "python",
   "pygments_lexer": "ipython3",
   "version": "3.6.3"
  }
 },
 "nbformat": 4,
 "nbformat_minor": 2
}

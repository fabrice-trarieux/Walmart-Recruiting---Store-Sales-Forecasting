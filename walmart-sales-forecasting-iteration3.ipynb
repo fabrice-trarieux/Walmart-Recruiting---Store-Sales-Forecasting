{
 "cells": [
  {
   "cell_type": "markdown",
   "metadata": {},
   "source": [
    "# Walmart Recruiting - Store Sales Forecasting -  Step 3: Xgboost"
   ]
  },
  {
   "cell_type": "markdown",
   "metadata": {},
   "source": [
    "For various reasons, I also tend to quickly genereate a second basic baseline using a tree-based model (xgboost, lightgbm or catboost). They allow me to quickly plot the feature importance therefore I can focus more effort accordingly.\n",
    "\n",
    "They handle null value and outliers so scaling numerical data is not necessarly. The only think I will have to\n",
    "do is to convert the categorical features into numeric. I will be using label encoding.\n"
   ]
  },
  {
   "cell_type": "markdown",
   "metadata": {},
   "source": [
    "### Take away of the notebook\n",
    "    . build ML pipeline to generate submission\n",
    "    . Initial feagture engineering\n",
    "    . Label encoding\n",
    "    . Feature importance\n",
    "    . Model evaluation\n",
    "    . The baseline is not that great to our common-sense baseline and thera is some room for improvements"
   ]
  },
  {
   "cell_type": "code",
   "execution_count": 2,
   "metadata": {},
   "outputs": [
    {
     "name": "stderr",
     "output_type": "stream",
     "text": [
      "/usr/local/lib/python3.6/site-packages/sklearn/cross_validation.py:41: DeprecationWarning: This module was deprecated in version 0.18 in favor of the model_selection module into which all the refactored classes and functions are moved. Also note that the interface of the new CV iterators are different from that of this module. This module will be removed in 0.20.\n",
      "  \"This module will be removed in 0.20.\", DeprecationWarning)\n"
     ]
    }
   ],
   "source": [
    "import pandas as pd\n",
    "import numpy as np\n",
    "from datetime import timedelta\n",
    "from xgboost import XGBRegressor\n",
    "\n",
    "import matplotlib.pyplot as plt\n",
    "import seaborn as sns\n",
    "\n",
    "%matplotlib inline"
   ]
  },
  {
   "cell_type": "markdown",
   "metadata": {},
   "source": [
    "# loading data"
   ]
  },
  {
   "cell_type": "code",
   "execution_count": 3,
   "metadata": {},
   "outputs": [
    {
     "data": {
      "text/plain": [
       "((421570, 16), (115064, 16))"
      ]
     },
     "execution_count": 3,
     "metadata": {},
     "output_type": "execute_result"
    }
   ],
   "source": [
    "df_train = pd.read_parquet('data/train.parquet')\n",
    "df_test = pd.read_parquet('data/test.parquet')\n",
    "\n",
    "target = 'Weekly_Sales'\n",
    "df_train.shape, df_test.shape"
   ]
  },
  {
   "cell_type": "code",
   "execution_count": 4,
   "metadata": {},
   "outputs": [
    {
     "data": {
      "text/html": [
       "<div>\n",
       "<style scoped>\n",
       "    .dataframe tbody tr th:only-of-type {\n",
       "        vertical-align: middle;\n",
       "    }\n",
       "\n",
       "    .dataframe tbody tr th {\n",
       "        vertical-align: top;\n",
       "    }\n",
       "\n",
       "    .dataframe thead th {\n",
       "        text-align: right;\n",
       "    }\n",
       "</style>\n",
       "<table border=\"1\" class=\"dataframe\">\n",
       "  <thead>\n",
       "    <tr style=\"text-align: right;\">\n",
       "      <th></th>\n",
       "      <th>Date</th>\n",
       "      <th>Dept</th>\n",
       "      <th>IsHoliday</th>\n",
       "      <th>Store</th>\n",
       "      <th>Weekly_Sales</th>\n",
       "      <th>Temperature</th>\n",
       "      <th>Fuel_Price</th>\n",
       "      <th>MarkDown1</th>\n",
       "      <th>MarkDown2</th>\n",
       "      <th>MarkDown3</th>\n",
       "      <th>MarkDown4</th>\n",
       "      <th>MarkDown5</th>\n",
       "      <th>CPI</th>\n",
       "      <th>Unemployment</th>\n",
       "      <th>Type</th>\n",
       "      <th>Size</th>\n",
       "    </tr>\n",
       "  </thead>\n",
       "  <tbody>\n",
       "    <tr>\n",
       "      <th>0</th>\n",
       "      <td>2010-02-05</td>\n",
       "      <td>1</td>\n",
       "      <td>False</td>\n",
       "      <td>1</td>\n",
       "      <td>24924.50</td>\n",
       "      <td>42.31</td>\n",
       "      <td>2.572</td>\n",
       "      <td>NaN</td>\n",
       "      <td>NaN</td>\n",
       "      <td>NaN</td>\n",
       "      <td>NaN</td>\n",
       "      <td>NaN</td>\n",
       "      <td>211.096358</td>\n",
       "      <td>8.106</td>\n",
       "      <td>A</td>\n",
       "      <td>151315</td>\n",
       "    </tr>\n",
       "    <tr>\n",
       "      <th>1</th>\n",
       "      <td>2010-02-12</td>\n",
       "      <td>1</td>\n",
       "      <td>True</td>\n",
       "      <td>1</td>\n",
       "      <td>46039.49</td>\n",
       "      <td>38.51</td>\n",
       "      <td>2.548</td>\n",
       "      <td>NaN</td>\n",
       "      <td>NaN</td>\n",
       "      <td>NaN</td>\n",
       "      <td>NaN</td>\n",
       "      <td>NaN</td>\n",
       "      <td>211.242170</td>\n",
       "      <td>8.106</td>\n",
       "      <td>A</td>\n",
       "      <td>151315</td>\n",
       "    </tr>\n",
       "    <tr>\n",
       "      <th>2</th>\n",
       "      <td>2010-02-19</td>\n",
       "      <td>1</td>\n",
       "      <td>False</td>\n",
       "      <td>1</td>\n",
       "      <td>41595.55</td>\n",
       "      <td>39.93</td>\n",
       "      <td>2.514</td>\n",
       "      <td>NaN</td>\n",
       "      <td>NaN</td>\n",
       "      <td>NaN</td>\n",
       "      <td>NaN</td>\n",
       "      <td>NaN</td>\n",
       "      <td>211.289143</td>\n",
       "      <td>8.106</td>\n",
       "      <td>A</td>\n",
       "      <td>151315</td>\n",
       "    </tr>\n",
       "    <tr>\n",
       "      <th>3</th>\n",
       "      <td>2010-02-26</td>\n",
       "      <td>1</td>\n",
       "      <td>False</td>\n",
       "      <td>1</td>\n",
       "      <td>19403.54</td>\n",
       "      <td>46.63</td>\n",
       "      <td>2.561</td>\n",
       "      <td>NaN</td>\n",
       "      <td>NaN</td>\n",
       "      <td>NaN</td>\n",
       "      <td>NaN</td>\n",
       "      <td>NaN</td>\n",
       "      <td>211.319643</td>\n",
       "      <td>8.106</td>\n",
       "      <td>A</td>\n",
       "      <td>151315</td>\n",
       "    </tr>\n",
       "    <tr>\n",
       "      <th>4</th>\n",
       "      <td>2010-03-05</td>\n",
       "      <td>1</td>\n",
       "      <td>False</td>\n",
       "      <td>1</td>\n",
       "      <td>21827.90</td>\n",
       "      <td>46.50</td>\n",
       "      <td>2.625</td>\n",
       "      <td>NaN</td>\n",
       "      <td>NaN</td>\n",
       "      <td>NaN</td>\n",
       "      <td>NaN</td>\n",
       "      <td>NaN</td>\n",
       "      <td>211.350143</td>\n",
       "      <td>8.106</td>\n",
       "      <td>A</td>\n",
       "      <td>151315</td>\n",
       "    </tr>\n",
       "  </tbody>\n",
       "</table>\n",
       "</div>"
      ],
      "text/plain": [
       "        Date  Dept  IsHoliday  Store  Weekly_Sales  Temperature  Fuel_Price  \\\n",
       "0 2010-02-05     1      False      1      24924.50        42.31       2.572   \n",
       "1 2010-02-12     1       True      1      46039.49        38.51       2.548   \n",
       "2 2010-02-19     1      False      1      41595.55        39.93       2.514   \n",
       "3 2010-02-26     1      False      1      19403.54        46.63       2.561   \n",
       "4 2010-03-05     1      False      1      21827.90        46.50       2.625   \n",
       "\n",
       "   MarkDown1  MarkDown2  MarkDown3  MarkDown4  MarkDown5         CPI  \\\n",
       "0        NaN        NaN        NaN        NaN        NaN  211.096358   \n",
       "1        NaN        NaN        NaN        NaN        NaN  211.242170   \n",
       "2        NaN        NaN        NaN        NaN        NaN  211.289143   \n",
       "3        NaN        NaN        NaN        NaN        NaN  211.319643   \n",
       "4        NaN        NaN        NaN        NaN        NaN  211.350143   \n",
       "\n",
       "   Unemployment Type    Size  \n",
       "0         8.106    A  151315  \n",
       "1         8.106    A  151315  \n",
       "2         8.106    A  151315  \n",
       "3         8.106    A  151315  \n",
       "4         8.106    A  151315  "
      ]
     },
     "execution_count": 4,
     "metadata": {},
     "output_type": "execute_result"
    }
   ],
   "source": [
    "df_train.head()"
   ]
  },
  {
   "cell_type": "markdown",
   "metadata": {},
   "source": [
    "# Data pre-processing"
   ]
  },
  {
   "cell_type": "markdown",
   "metadata": {},
   "source": [
    "#### Date engineering"
   ]
  },
  {
   "cell_type": "code",
   "execution_count": 8,
   "metadata": {},
   "outputs": [
    {
     "data": {
      "text/plain": [
       "(['Dept', 'Store', 'Type', 'Size'],\n",
       " ['IsHoliday',\n",
       "  'Temperature',\n",
       "  'Fuel_Price',\n",
       "  'MarkDown1',\n",
       "  'MarkDown2',\n",
       "  'MarkDown3',\n",
       "  'MarkDown4',\n",
       "  'MarkDown5',\n",
       "  'CPI',\n",
       "  'Unemployment',\n",
       "  'Year',\n",
       "  'Month',\n",
       "  'Week',\n",
       "  'Day',\n",
       "  'day_of_year',\n",
       "  'days_in_month',\n",
       "  'Prev_Year_Weekly_Sales'])"
      ]
     },
     "execution_count": 8,
     "metadata": {},
     "output_type": "execute_result"
    }
   ],
   "source": [
    "# combine train/test\n",
    "traintest = pd.concat([df_train, df_test], axis=0, ignore_index=True)\n",
    "\n",
    "# new features\n",
    "traintest[\"Year\"] = traintest.Date.dt.year\n",
    "traintest[\"Month\"] = traintest.Date.dt.month\n",
    "traintest[\"Week\"] = traintest.Date.dt.week\n",
    "traintest[\"Day\"] = traintest.Date.dt.day\n",
    "traintest[\"day_of_year\"] = traintest.Date.dt.dayofyear\n",
    "traintest[\"days_in_month\"] = traintest.Date.dt.days_in_month\n",
    "\n",
    "# given store/dept/week extract the weekly sales from last year\n",
    "traintest[\"Prev_Y\"] = (traintest.Date - timedelta(days=365)).dt.year\n",
    "traintest[\"Prev_Y_W\"] = (traintest.Date - timedelta(days=365)).dt.week\n",
    "# traintest[\"Prev_Year_Plus_1wk\"] = (traintest.Prev_Year - timedelta(weeks=1)).dt.week\n",
    "# traintest[\"Prev_Year_Plus_2wk\"] = (traintest.Prev_Year - timedelta(weeks=2).dt.week\n",
    "# traintest[\"Prev_Year_Minus_1wk\"] = (traintest.Prev_Year + timedelta(weeks=1).dt.week\n",
    "# traintest[\"Prev_Year_Minus_2wk\"] = (traintest.Prev_Year + timedelta(weeks=2).dt.week\n",
    "\n",
    "\n",
    "previous_year = traintest[['Store', 'Dept', 'Year', 'Week', 'Weekly_Sales']].copy()\n",
    "previous_year.rename(columns={'Year': 'Prev_Y', 'Week': 'Prev_Y_W',\n",
    "                              'Weekly_Sales': 'Prev_Year_Weekly_Sales'}, inplace=True)\n",
    "traintest = traintest.merge(previous_year, how='left', on=['Store', 'Dept', 'Prev_Y', 'Prev_Y_W'])\n",
    "traintest = traintest[traintest.columns.drop(['Prev_Y', 'Prev_Y_W'])]\n",
    "traintest.Prev_Year_Weekly_Sales.fillna(0, inplace=True)\n",
    "\n",
    "# convert to category\n",
    "traintest['Store'] = traintest.Store.astype('category')\n",
    "traintest['Dept'] = traintest.Dept.astype('category')\n",
    "traintest['Size'] = traintest.Size.astype('category')\n",
    "traintest['Type'] = traintest.Type.astype('category')\n",
    "\n",
    "# map bool IsHoliday to 0/1 values\n",
    "traintest['IsHoliday'] = traintest.IsHoliday.map({False: 0, True: 1})\n",
    "\n",
    "# get only year difference with 2013\n",
    "# traintest[\"Year\"] = 2013 - traintest.Year\n",
    "\n",
    "\n",
    "# traintest['MarkDown1'] = traintest.MarkDown1.fillna(-99)\n",
    "# traintest['MarkDown2'] = traintest.MarkDown2.fillna(-99)\n",
    "# traintest['MarkDown3'] = traintest.MarkDown3.fillna(-99)\n",
    "# traintest['MarkDown4'] = traintest.MarkDown4.fillna(-99)\n",
    "# traintest['MarkDown5'] = traintest.MarkDown5.fillna(-99)\n",
    "# traintest['CPI'] = traintest.CPI.fillna(-99)\n",
    "# traintest['Unemployment'] = traintest.Unemployment.fillna(-99)\n",
    "\n",
    "# define numerical and categorical features\n",
    "cats = ['object', 'bool', 'category']\n",
    "nums = ['int64', 'float64']\n",
    "cat_features = traintest.select_dtypes(include=cats).columns.tolist()\n",
    "num_features = traintest.select_dtypes(include=nums).columns.drop(target).tolist()\n",
    "cat_features, num_features"
   ]
  },
  {
   "cell_type": "markdown",
   "metadata": {},
   "source": [
    "#### saving datasets"
   ]
  },
  {
   "cell_type": "code",
   "execution_count": 9,
   "metadata": {},
   "outputs": [
    {
     "name": "stdout",
     "output_type": "stream",
     "text": [
      "done\n"
     ]
    }
   ],
   "source": [
    "# save train set\n",
    "df = traintest[:len(df_train)].reset_index(drop=True)\n",
    "df.to_parquet('data/train_extended.parquet', compression='brotli')\n",
    "\n",
    "# save test set\n",
    "df = traintest[len(df_train):].reset_index(drop=True)\n",
    "df.to_parquet('data/test_extended.parquet', compression='brotli')\n",
    "print('done')"
   ]
  },
  {
   "cell_type": "markdown",
   "metadata": {},
   "source": [
    "#### Label encoding"
   ]
  },
  {
   "cell_type": "code",
   "execution_count": 175,
   "metadata": {},
   "outputs": [],
   "source": [
    "def label_encoding_by_sales(df, features_to_encode):\n",
    "    data = pd.DataFrame(index=df.index)\n",
    "    if isinstance(features_to_encode, str): \n",
    "        features_to_encode = [features_to_encode]\n",
    "    # label encoding by sales rank\n",
    "    for col in features_to_encode:\n",
    "        sales_rank = (df[:len(df_train)].groupby(col)\n",
    "                        .Weekly_Sales\n",
    "                        .sum().rank()\n",
    "                        .astype(np.int16))\n",
    "        data[col] = df[col].map(sales_rank)\n",
    "\n",
    "    return data\n",
    "\n",
    "# encode cat features\n",
    "traintest[cat_features] = label_encoding_by_sales(traintest, cat_features)\n",
    "traintest.info()"
   ]
  },
  {
   "cell_type": "markdown",
   "metadata": {},
   "source": [
    "## Baseline using XGBoost"
   ]
  },
  {
   "cell_type": "markdown",
   "metadata": {},
   "source": [
    "#### helper functions"
   ]
  },
  {
   "cell_type": "code",
   "execution_count": 429,
   "metadata": {},
   "outputs": [],
   "source": [
    "def rmse(y_true, y_pred):\n",
    "    result = np.sum((y_true-y_pred)**2) / len(y_true)\n",
    "    return result**0.5\n",
    "\n",
    "def plot_history(history, offset=None):\n",
    "    results = history.evals_result()\n",
    "    if offset is not None:\n",
    "        rmse_train = results['validation_0']['rmse'][offset:]\n",
    "        rmse_test = results['validation_1']['rmse'][offset:]\n",
    "        x_axis = range(offset, len(rmse_train)+offset)\n",
    "    else:\n",
    "        rmse_train = results['validation_0']['rmse']\n",
    "        rmse_test = results['validation_1']['rmse']\n",
    "        x_axis = range(0, len(rmse_train))\n",
    "\n",
    "    # plot rmse\n",
    "    fig, ax = plt.subplots()\n",
    "    ax.plot(x_axis, rmse_train, label='Train')\n",
    "    ax.plot(x_axis, rmse_test, label='Val')\n",
    "    ax.legend()\n",
    "    plt.ylabel('rmse')\n",
    "    plt.title('XGBoost rmse')\n",
    "    plt.show()"
   ]
  },
  {
   "cell_type": "markdown",
   "metadata": {},
   "source": [
    "#### train/val/test, time-based split"
   ]
  },
  {
   "cell_type": "code",
   "execution_count": 390,
   "metadata": {},
   "outputs": [],
   "source": [
    "# features to pass to xgboost\n",
    "feat_cols = num_features+cat_features\n",
    "\n",
    "# construct train/test datasets\n",
    "train = traintest[:len(df_train)]\n",
    "test = traintest[len(df_train):]\n",
    "\n",
    "# define train sets, time-based split (2011-11-11: first week where Markdown exist)\n",
    "# mask=(train.Date>='2011-11-11 00:00:00') & (train.Date<'2012-01-01 00:00:00')\n",
    "mask=(train.Date>='2011-11-11 00:00:00') & (train.Date<'2012-08-17 00:00:00')\n",
    "X_train = train.loc[mask, feat_cols]\n",
    "y_train = train.loc[mask, target]\n",
    "\n",
    "# get valid data from week of 2012-01-01 until week of 2012-10-26 (43 weeks)\n",
    "# mask=(train.Date>='2012-01-01 00:00:00')\n",
    "mask=(train.Date>='2012-08-17 00:00:00')\n",
    "X_val = train.loc[mask, feat_cols]\n",
    "y_val = train.loc[mask, target]"
   ]
  },
  {
   "cell_type": "markdown",
   "metadata": {},
   "source": [
    "#### Build  model"
   ]
  },
  {
   "cell_type": "code",
   "execution_count": 421,
   "metadata": {},
   "outputs": [
    {
     "name": "stdout",
     "output_type": "stream",
     "text": [
      "rmse: 3201.265362798634\n"
     ]
    }
   ],
   "source": [
    "xgb = XGBRegressor(n_estimators=1000, max_depth=6, learning_rate=0.15,\n",
    "                    colsample_bytree=0.9, subsample=0.6,\n",
    "                    nthread=-1, seed=0)\n",
    "\n",
    "eval_set = [(X_train, y_train.ravel()), (X_val, y_val.ravel())]\n",
    "\n",
    "# fit model\n",
    "history = xgb.fit(X=X_train,\n",
    "                    y=y_train.ravel(),\n",
    "                    eval_metric=['rmse', 'error'],\n",
    "                    eval_set=eval_set,\n",
    "                    early_stopping_rounds=80,\n",
    "                    verbose=False)\n",
    "\n",
    "# evaluate predictions\n",
    "val_preds = xgb.predict(X_val)\n",
    "print('rmse: {}'.format(rmse(y_val, val_preds)))"
   ]
  },
  {
   "cell_type": "markdown",
   "metadata": {},
   "source": [
    "#### plot RMSE train/val as per number of iteration and feature importance"
   ]
  },
  {
   "cell_type": "code",
   "execution_count": 430,
   "metadata": {},
   "outputs": [
    {
     "data": {
      "image/png": "[encoded data removed]",
      "text/plain": [
       "<matplotlib.figure.Figure at 0x115f4b860>"
      ]
     },
     "metadata": {},
     "output_type": "display_data"
    },
    {
     "data": {
      "image/png": "[encoded data removed]",
      "text/plain": [
       "<matplotlib.figure.Figure at 0x1496310b8>"
      ]
     },
     "metadata": {},
     "output_type": "display_data"
    }
   ],
   "source": [
    "df = pd.DataFrame([xgb.booster().get_score(importance_type='weight')]).T\n",
    "df.columns = ['importance']\n",
    "df = df.sort_values('importance')\n",
    "df.plot.barh(figsize=(5,5));\n",
    "\n",
    "# plot history\n",
    "plot_history(history, 20)"
   ]
  },
  {
   "cell_type": "markdown",
   "metadata": {},
   "source": [
    "### re-train model on full train set + bagging + create submission file"
   ]
  },
  {
   "cell_type": "code",
   "execution_count": 415,
   "metadata": {},
   "outputs": [
    {
     "name": "stdout",
     "output_type": "stream",
     "text": [
      "processing bag: #0...\n",
      "processing bag: #1...\n",
      "processing bag: #2...\n",
      "processing bag: #3...\n",
      "processing bag: #4...\n",
      "processing bag: #5...\n",
      "processing bag: #6...\n",
      "processing bag: #7...\n",
      "processing bag: #8...\n",
      "processing bag: #9...\n",
      "done\n"
     ]
    }
   ],
   "source": [
    "bags=10\n",
    "bagged_predictions = np.zeros(X_test.shape[0])\n",
    "\n",
    "for i in range(bags):\n",
    "    seed=i+100\n",
    "    print('processing bag: #{}...'.format(i))\n",
    "    xgb = XGBRegressor(n_estimators=30, max_depth=6, learning_rate=0.15,\n",
    "                        colsample_bytree=0.9, subsample=0.6,\n",
    "                        nthread=-1, seed=seed)\n",
    "\n",
    "    # fit model\n",
    "    xgb.fit(X=train[feat_cols],\n",
    "                    y=train[target].ravel(),\n",
    "                    verbose=False)\n",
    "\n",
    "    preds = xgb.predict(test[feat_cols])\n",
    "    bagged_predictions += preds\n",
    "\n",
    "# averaging the preds\n",
    "bagged_predictions /= bags\n",
    "\n",
    "# create submission file\n",
    "submission = df_test.copy()\n",
    "submission[target] = bagged_predictions\n",
    "submission['Id'] = (submission.Store.astype(str)+'_'+\n",
    "               submission.Dept.astype(str)+'_'+\n",
    "                submission.Date.astype(str))\n",
    "cols = ['Id', 'Weekly_Sales']\n",
    "submission[cols].to_csv('data/submission-xgb-6.csv', index=False, header=True)\n",
    "print('done')"
   ]
  },
  {
   "cell_type": "markdown",
   "metadata": {},
   "source": [
    "#### Note:\n",
    "xgboost baseline: rank #252<br>\n",
    "public lb: 3298.22197<br>\n",
    "private lb: 3177.72273<br>\n",
    "\n",
    "The common-sense baseline is still the winner: rank #150<br>\n",
    "public lb: 3025.89776<br>\n",
    "private lb: 2943.93191<br>\n",
    "\n",
    "#### a few considerations<br>\n",
    "    - predict the log of weekly sales and see if there are improvements\n",
    "    . using stacking with other type of models (lightgm, catboost, extratrees, SVM)\n",
    "    . more data engineering including week lags from previous year\n",
    "    . try deep learning with entity embeddings\n",
    "    . try deep learning sequence model for the time series problem using sequence of weeks "
   ]
  },
  {
   "cell_type": "code",
   "execution_count": null,
   "metadata": {},
   "outputs": [],
   "source": []
  }
 ],
 "metadata": {
  "kernelspec": {
   "display_name": "Python 3",
   "language": "python",
   "name": "python3"
  },
  "language_info": {
   "codemirror_mode": {
    "name": "ipython",
    "version": 3
   },
   "file_extension": ".py",
   "mimetype": "text/x-python",
   "name": "python",
   "nbconvert_exporter": "python",
   "pygments_lexer": "ipython3",
   "version": "3.6.3"
  }
 },
 "nbformat": 4,
 "nbformat_minor": 2
}
